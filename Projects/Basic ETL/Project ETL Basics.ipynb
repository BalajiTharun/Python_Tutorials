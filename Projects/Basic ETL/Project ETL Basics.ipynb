{
 "cells": [
  {
   "cell_type": "markdown",
   "metadata": {},
   "source": [
    "## What is ETL?"
   ]
  },
  {
   "cell_type": "markdown",
   "metadata": {},
   "source": [
    "ETL is actually short form of Extract, Transform and Load, a process in which data is acquired, changed/processes and then finally get loaded into data warehouse/database(s).\n",
    "\n",
    "You can extract data from data sources like Files, Website or some Database, transform the acquired data and then load the final version into database for business usage.\n",
    "\n",
    "You may ask, Why ETL?, well, what ETL does, many of you might already been doing one way or other by writing different functions/scripts to perform tasks but one of the main advantage of ETLs is visualizing your entire data flow pipeline thus help you make decisions according to that."
   ]
  },
  {
   "cell_type": "markdown",
   "metadata": {},
   "source": [
    "Let's start with building our own ETL pipeline. \n",
    "* Extract data from CSV file\n",
    "* Transform/Manipulate Data\n",
    "* Load Data into MongoDB"
   ]
  },
  {
   "cell_type": "code",
   "execution_count": null,
   "metadata": {},
   "outputs": [],
   "source": [
    "# to read data from csv, python provides csv module\n",
    "import csv"
   ]
  },
  {
   "cell_type": "markdown",
   "metadata": {},
   "source": [
    "To deal with files in Python, we use the open() function, it’s a built-in Python function. This function accepts two different arguments (inputs) in the parentheses, always in the following order: \n",
    "* the name of the file (as a string) \n",
    "* the mode of working with the file (as a string) \n",
    "\n",
    "The syntax to open a file in python is:\n",
    "\n",
    "file_obj = open(“filename”, “mode”)  "
   ]
  },
  {
   "cell_type": "code",
   "execution_count": null,
   "metadata": {},
   "outputs": [],
   "source": [
    "f = open(r'C:\\Users\\hp\\PycharmProjects\\Portfolio_FIL\\crypto-markets.csv')\n",
    "# 'f' is a file handler here\n",
    "\n",
    "csv_reader = csv.reader(f)\n",
    "print(csv_reader)\n"
   ]
  },
  {
   "cell_type": "markdown",
   "metadata": {},
   "source": [
    "![title](Crypto_Market_Data.PNG)"
   ]
  },
  {
   "cell_type": "markdown",
   "metadata": {},
   "source": [
    "Transforming/Changing the data."
   ]
  },
  {
   "cell_type": "code",
   "execution_count": null,
   "metadata": {},
   "outputs": [],
   "source": [
    "assetsCode = ['BTC','ETH','XRP','LTC']\n",
    "\n",
    "# initialize empty list\n",
    "crypto_data = []\n",
    "\n",
    "next(csv_reader, None)  # skips the headers\n",
    "\n",
    "# read csv data row wise\n",
    "for row in csv_reader:\n",
    "    if(row[1] in assetsCode):  # check if current row consist of either 'BTC' or 'ETH' or 'XRP' or 'LTC' currency data\n",
    "        # convert open, high, low, close amount to float type first from str and then convert it into GBP \n",
    "        row[5] = float(row[5]) * 0.75\n",
    "        row[6] = float(row[6]) * 0.75\n",
    "        row[7] = float(row[7])* 0.75\n",
    "        row[8] = float(row[8]) * 0.75\n",
    "        crypto_data.append(row)\n",
    "        \n",
    "# print(csv_reader.line_num)\n",
    "print(len(crypto_data))\n",
    "print(crypto_data[0:2])"
   ]
  },
  {
   "cell_type": "markdown",
   "metadata": {},
   "source": [
    "Loading the data into SQL DB "
   ]
  },
  {
   "cell_type": "code",
   "execution_count": null,
   "metadata": {},
   "outputs": [],
   "source": [
    "import sqlite3\n",
    "\n",
    "# connect function opens a connection to the SQLite database file, \n",
    "conn = sqlite3.connect('session.db') \n",
    "#Similarly we will make connection with other databases like Oracle, DB2 etc."
   ]
  },
  {
   "cell_type": "code",
   "execution_count": null,
   "metadata": {},
   "outputs": [],
   "source": [
    "# Drop a table name Crypto id it exists already\n",
    "try:\n",
    "    conn.execute('DROP TABLE IF EXISTS `Crypto` ')\n",
    "except Exception as e:\n",
    "    print(str(e))"
   ]
  },
  {
   "cell_type": "code",
   "execution_count": null,
   "metadata": {},
   "outputs": [],
   "source": [
    "# Create a new Table named as Crypto\n",
    "try:\n",
    "    conn.execute('''\n",
    "         CREATE TABLE Crypto\n",
    "         (ID         INTEGER PRIMARY KEY,\n",
    "         NAME        TEXT    NOT NULL,\n",
    "         Date        datetime,\n",
    "         Open        Float DEFAULT 0,\n",
    "         High        Float DEFAULT 0,\n",
    "         Low         Float DEFAULT 0,\n",
    "         Close       Float DEFAULT 0);''')\n",
    "    print (\"Table created successfully\");\n",
    "except Exception as e:\n",
    "    print(str(e))\n",
    "    print('Table Creation Failed!!!!!')\n",
    "finally:\n",
    "    conn.close() # this closes the database connection"
   ]
  },
  {
   "cell_type": "code",
   "execution_count": null,
   "metadata": {},
   "outputs": [],
   "source": [
    "# Since our crypto data contains more information than required so we need eliminate some of it.\n",
    "print(crypto_data[0])"
   ]
  },
  {
   "cell_type": "code",
   "execution_count": null,
   "metadata": {},
   "outputs": [],
   "source": [
    "# Some more transformations\n",
    "crypto_sql_data = [(row[2], row[3], row[5], row[6], row[7], row[8]) for row in crypto_data]\n",
    "crypto_sql_data[:2]"
   ]
  },
  {
   "cell_type": "code",
   "execution_count": null,
   "metadata": {},
   "outputs": [],
   "source": [
    "# lets make new connection to Insert crypto data in SQL DB\n",
    "conn = sqlite3.connect('session.db')\n",
    "cur = conn.cursor()\n",
    "try:\n",
    "    cur.executemany(\"INSERT INTO Crypto(NAME, Date, Open, High, Low, Close) VALUES (?,?,?,?,?,?)\", crypto_sql_data)\n",
    "    conn.commit()\n",
    "    print('Data Inserted Successfully')\n",
    "except Exception as e:\n",
    "    print(str(e))\n",
    "    print('Data Insertion Failed')\n",
    "finally:\n",
    "    conn.close()"
   ]
  },
  {
   "cell_type": "code",
   "execution_count": null,
   "metadata": {
    "scrolled": false
   },
   "outputs": [],
   "source": [
    "# Let's Read data from DB to verify it\n",
    "\n",
    "conn = sqlite3.connect('session.db')\n",
    "rows = conn.cursor().execute('Select * from Crypto')\n",
    "\n",
    "for row in rows:\n",
    "    print(row)"
   ]
  },
  {
   "cell_type": "markdown",
   "metadata": {},
   "source": [
    "Write data in a csv file"
   ]
  },
  {
   "cell_type": "code",
   "execution_count": null,
   "metadata": {},
   "outputs": [],
   "source": [
    "csvfile = open('Crypto.csv', 'w') \n",
    "csv_writer = csv.writer(csvfile, lineterminator='\\r')\n",
    "# Now we can write data to files using two methods:\n",
    "# writerow() or writerows() \n",
    "# writerow() is used when we need to write one-dimension data such as a single list :[1, ‘Jerry’, 95] \n",
    "# writerows() is used when we need to write multi-dimension data such as list of list [[1, ‘Jerry’, 95], [2, ‘Tom’, 80], [3, ‘Scooby’, 90]]  \n",
    "# So the only difference is that writerows() lets you pass multiple values! \n",
    "csv_writer.writerow(['Name', 'Date', 'Open', 'High', 'Low', 'Close'])\n",
    "csv_writer.writerows(crypto_sql_data)\n",
    "csvfile.close()"
   ]
  },
  {
   "cell_type": "code",
   "execution_count": null,
   "metadata": {},
   "outputs": [],
   "source": []
  }
 ],
 "metadata": {
  "kernelspec": {
   "display_name": "Python 3",
   "language": "python",
   "name": "python3"
  },
  "language_info": {
   "codemirror_mode": {
    "name": "ipython",
    "version": 3
   },
   "file_extension": ".py",
   "mimetype": "text/x-python",
   "name": "python",
   "nbconvert_exporter": "python",
   "pygments_lexer": "ipython3",
   "version": "3.6.5"
  }
 },
 "nbformat": 4,
 "nbformat_minor": 2
}
