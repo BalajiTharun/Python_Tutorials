{
 "cells": [
  {
   "cell_type": "code",
   "execution_count": 6,
   "metadata": {},
   "outputs": [],
   "source": [
    "from DataSources import Extract\n",
    "from DataLoad import MongoDB\n",
    "import urllib\n",
    "import pandas as pd\n",
    "\n",
    "class Transformation:\n",
    "    \n",
    "    def __init__(self, dataSource, dataSet):\n",
    "        print('Inside')\n",
    "        extractObj = Extract()\n",
    "        if dataSource == 'api':\n",
    "            self.data = extractObj.getAPISData(dataSet)\n",
    "            funcName = dataSource+dataSet\n",
    "            getattr(self, funcName)()\n",
    "        elif dataSource == 'csv':\n",
    "            self.data = extractObj.getCSVData(dataSet)\n",
    "            funcName = dataSource+dataSet\n",
    "            getattr(self, funcName)()\n",
    "        else:\n",
    "            self.data = extractObj.databases(dataSet)\n",
    "    \n",
    "    \n",
    "    def apiEconomy(self):\n",
    "        gdp_india = {}\n",
    "        for record in self.data['records']:\n",
    "            gdp={}\n",
    "            gdp['GDP_in_rs_cr'] = int(record['gross_domestic_product_in_rs_cr_at_2004_05_prices'])\n",
    "            gdp_india[record['financial_year']] = gdp\n",
    "            gdp_india_yrs = list(gdp_india)\n",
    "        for i in range(len(gdp_india_yrs)):\n",
    "            if i == 0:\n",
    "                pass\n",
    "            else:\n",
    "                key = 'GDP_Growth_' + gdp_india_yrs[i]\n",
    "                gdp_india[gdp_india_yrs[i]][key] = round(((gdp_india[gdp_india_yrs[i]]['GDP_in_rs_cr'] -gdp_india[gdp_india_yrs[i-1]]['GDP_in_rs_cr'])/gdp_india[gdp_india_yrs[i-1]]['GDP_in_rs_cr'])*100,2)\n",
    "        \n",
    "        # connection to mongo db\n",
    "        mongoDB_obj = MongoDB(urllib.parse.quote_plus('root'), urllib.parse.quote_plus('poln@recover'), '104.155.187.175', 'GDP')\n",
    "        # Insert Data into MongoDB\n",
    "        mongoDB_obj.insert_into_db(gdp_india, 'India_GDP')\n",
    "        \n",
    "        \n",
    "    def apiPollution(self):\n",
    "        air_data = self.data['results']\n",
    "        # Converting nested data into linear structure\n",
    "        air_list = []\n",
    "        for data in air_data:\n",
    "            for measurement in data['measurements']:\n",
    "                air_dict = {}\n",
    "                air_dict['location'] = data['location']\n",
    "                air_dict['city'] = data['city']\n",
    "                air_dict['country'] = data['country']\n",
    "                air_dict['parameter'] = measurement['parameter']\n",
    "                air_dict['value'] = measurement['value']\n",
    "                air_dict['lastUpdated'] = measurement['lastUpdated']\n",
    "                air_dict['unit'] = measurement['unit']\n",
    "                air_dict['sourceName'] = measurement['sourceName']\n",
    "                air_list.append(air_dict)\n",
    "        # Convert list of dict into pandas df\n",
    "        df = pd.DataFrame(air_list, columns=air_dict.keys())\n",
    "        # connection to mongo db\n",
    "        mongoDB_obj = MongoDB(urllib.parse.quote_plus('root'), urllib.parse.quote_plus('poln@recover'), '104.155.187.175', 'Pollution_Data')\n",
    "        # Insert Data into MongoDB\n",
    "        mongoDB_obj.insert_into_db(df, 'Air_Quality_India')\n",
    "\n",
    "    \n"
   ]
  },
  {
   "cell_type": "code",
   "execution_count": 7,
   "metadata": {},
   "outputs": [
    {
     "name": "stdout",
     "output_type": "stream",
     "text": [
      "Please Select the DataSource i.e 'API'/'CSV'/'Database': api\n",
      "api\n",
      "Please select the Data set for Transformation: pollution\n",
      "Pollution\n",
      "MongoDB Connection Successful. CHEERS!!!\n",
      "Data Inserted Successfully\n",
      "Connection Closed!!!\n"
     ]
    }
   ],
   "source": [
    "if __name__ == '__main__':\n",
    "    dataSource = input(\"Please Select the DataSource i.e 'API'/'CSV'/'Database': \").lower()\n",
    "    print(dataSource)\n",
    "    dataSet = input('Please select the Data set for Transformation: ').title()\n",
    "    print(dataSet)\n",
    "    trans_obj = Transformation(dataSource, dataSet)\n",
    "    \n",
    "    "
   ]
  }
 ],
 "metadata": {
  "kernelspec": {
   "display_name": "Python 3",
   "language": "python",
   "name": "python3"
  },
  "language_info": {
   "codemirror_mode": {
    "name": "ipython",
    "version": 3
   },
   "file_extension": ".py",
   "mimetype": "text/x-python",
   "name": "python",
   "nbconvert_exporter": "python",
   "pygments_lexer": "ipython3",
   "version": "3.6.5"
  }
 },
 "nbformat": 4,
 "nbformat_minor": 2
}
