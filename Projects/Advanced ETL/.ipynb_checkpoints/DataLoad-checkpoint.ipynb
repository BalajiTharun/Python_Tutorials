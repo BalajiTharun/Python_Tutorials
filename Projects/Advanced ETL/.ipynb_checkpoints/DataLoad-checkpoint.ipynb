{
 "cells": [
  {
   "cell_type": "code",
   "execution_count": 1,
   "metadata": {},
   "outputs": [],
   "source": [
    "from pymongo import MongoClient\n",
    "import pandas as pd\n",
    "\n",
    "class MongoDB:\n",
    "\n",
    "    def __init__(self, user, password, host, db_name ,port='27017', authSource='admin'):\n",
    "        self.user = user\n",
    "        self.password = password\n",
    "        self.host = host\n",
    "        self.port = port\n",
    "        self.db_name = db_name\n",
    "        self.authSource = authSource\n",
    "        self.uri = 'mongodb://' + self.user + ':' + self.password + '@'+ self.host + ':' + self.port + '/' + self.db_name + '?authSource=' + self.authSource\n",
    "        try:\n",
    "            self.client = MongoClient(self.uri)\n",
    "            self.db = self.client[self.db_name]\n",
    "            print 'MongoDB Connection Successful. CHEERS!!!'\n",
    "        except Exception as e:\n",
    "            print('Connection Unsuccessful!! ERROR!!')\n",
    "            print(e)\n",
    "\n",
    "\n",
    "    def insert_into_db(self, data, collection):\n",
    "        if isinstance(data, pd.DataFrame):\n",
    "            try:\n",
    "                self.db[collection].insert_many(data.to_dict('records'))\n",
    "                print('Data Inserted Successfully')\n",
    "            except Exception as e:\n",
    "                print('OOPS!! Some ERROR Occurred')\n",
    "                print(e)\n",
    "        else:\n",
    "            try:\n",
    "                self.db[collection].insert_many(data)\n",
    "                print('Data Inserted Successfully')\n",
    "            except Exception as e:\n",
    "                print('OOPS!! Some ERROR Occurred')\n",
    "                print(e)"
   ]
  },
  {
   "cell_type": "code",
   "execution_count": null,
   "metadata": {},
   "outputs": [],
   "source": []
  }
 ],
 "metadata": {
  "kernelspec": {
   "display_name": "Python 3",
   "language": "python",
   "name": "python3"
  },
  "language_info": {
   "codemirror_mode": {
    "name": "ipython",
    "version": 3
   },
   "file_extension": ".py",
   "mimetype": "text/x-python",
   "name": "python",
   "nbconvert_exporter": "python",
   "pygments_lexer": "ipython3",
   "version": "3.6.5"
  }
 },
 "nbformat": 4,
 "nbformat_minor": 2
}
