{
 "cells": [
  {
   "cell_type": "markdown",
   "metadata": {},
   "source": [
    "In ETL process, data could be required to Extarct from multiple sources. \n",
    "To handle multiple Data Sources, its better to create a class with different methods acting as standalone Data Source."
   ]
  },
  {
   "cell_type": "code",
   "execution_count": 25,
   "metadata": {},
   "outputs": [],
   "source": [
    "import csv\n",
    "import requests\n",
    "import json\n",
    "\n",
    "class Extract:\n",
    "    \n",
    "    def __init__(self):\n",
    "        self.data_sources = json.load(open('data_config.json'))\n",
    "        self.api = self.data_sources['data_sources']['api']\n",
    "        self.csv_path = self.data_sources['data_sources']['csv']\n",
    "    \n",
    "    \n",
    "    def getAPISData(self, api_name):\n",
    "        api_url = self.api[api_name]\n",
    "        response = requests.get(api_url)\n",
    "        return response.json()\n",
    "\n",
    "    \n",
    "    def getCSVData(self, csv_name):\n",
    "        csv_data = []\n",
    "        csv_reader = csv.reader(open(self.csv_path[csv_name], 'r'))\n",
    "        for row in csv_reader:\n",
    "            csv_data.append(row)\n",
    "        return csv_data\n",
    "    \n",
    "    \n",
    "    def databases(self, db_name):\n",
    "        pass\n",
    "        "
   ]
  }
 ],
 "metadata": {
  "kernelspec": {
   "display_name": "Python 3",
   "language": "python",
   "name": "python3"
  },
  "language_info": {
   "codemirror_mode": {
    "name": "ipython",
    "version": 3
   },
   "file_extension": ".py",
   "mimetype": "text/x-python",
   "name": "python",
   "nbconvert_exporter": "python",
   "pygments_lexer": "ipython3",
   "version": "3.6.5"
  }
 },
 "nbformat": 4,
 "nbformat_minor": 2
}
