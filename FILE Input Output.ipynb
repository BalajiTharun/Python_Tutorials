{
 "cells": [
  {
   "cell_type": "markdown",
   "metadata": {},
   "source": [
    "FILE I/O\n",
    "\n",
    "To open a file in Python, we use the open() function, it’s a built-in Python function. This function accepts two different arguments (inputs) in the parentheses, always in the following order: \n",
    "• the name of the file (as a string) \n",
    "• the mode of working with the file (as a string) \n",
    "\n",
    "The syntax to open a file in python is:\n",
    "file_obj = open(“filename”, “mode”)  \n",
    "\n",
    "The open() function returns a File object. This object stores the information we passed in, and allows us to call methods specific to the File class. We can assign the File object (‘file_obj’) to a variable so we can refer to it later."
   ]
  },
  {
   "cell_type": "code",
   "execution_count": 23,
   "metadata": {},
   "outputs": [],
   "source": [
    "f = open('test.txt', 'r')\n",
    "# print(f.read())\n",
    "\n",
    "# size = 10\n",
    "# print(f.read(size))\n"
   ]
  },
  {
   "cell_type": "code",
   "execution_count": 30,
   "metadata": {},
   "outputs": [],
   "source": [
    "for line in f:\n",
    "    print(line)"
   ]
  },
  {
   "cell_type": "code",
   "execution_count": 38,
   "metadata": {},
   "outputs": [],
   "source": [
    "# write\n",
    "\n",
    "file = open('test_write.txt', 'w')\n",
    "file.write('This is a sample file \\n') \n",
    "file.write('Writing in file \\n') \n",
    "file.write('Hello world! \\n') \n",
    "file.close()"
   ]
  },
  {
   "cell_type": "code",
   "execution_count": 24,
   "metadata": {},
   "outputs": [],
   "source": [
    "# working with csv files\n",
    "import csv\n",
    "\n",
    "csv_file = open('PycharmProjects\\Portfolio_FIL\\crypto-markets.csv')\n",
    "csv_reader = csv.reader(csv_file)\n",
    "assetsCode = ['BTC','ETH','XRP','LTC']\n",
    "crypto_data = []\n",
    "for row in csv_reader:\n",
    "#     print(row)\n",
    "#     print(csv_reader.line_num) \n",
    "    if(row[1] in assetsCode in ['BTC','ETH','XRP','LTC']):\n",
    "        row[5] = row[5] * 0.75\n",
    "        row[6] = row[6] * 0.75\n",
    "        row[7] = row[7] * 0.75\n",
    "        row[8] = row[8] * 0.75\n",
    "        crypto_data.append(row)\n",
    "# print(csv_reader.line_num)\n",
    "# print(len(crypto_data))\n",
    "# print(crypto_data[0:10])\n",
    "\n"
   ]
  },
  {
   "cell_type": "code",
   "execution_count": 5,
   "metadata": {},
   "outputs": [],
   "source": [
    "csvfile = open('sample.csv', 'w') \n",
    "csv_writer = csv.writer(csvfile)\n",
    "\n",
    "# Now we can write data to files using two methods:\n",
    "# writerow() or writerows() \n",
    "# writerow() is used when we need to write one-dimension data such as a single list :[1, ‘Jerry’, 95] \n",
    "# writerows() is used when we need to write multi-dimension data such as list of list [[1, ‘Jerry’, 95], [2, ‘Tom’, 80], [3, ‘Scooby’, 90]]  \n",
    "# So the only difference is that writerows() lets you pass multiple values! \n",
    "\n",
    "my_data = [[1, 'Jerry', 95], [2, 'Tom', 80], [3, 'Scooby', 90]]  \n",
    "csv_writer.writerows(my_data)\n",
    "csvfile.close()"
   ]
  },
  {
   "cell_type": "code",
   "execution_count": 7,
   "metadata": {},
   "outputs": [],
   "source": [
    "# DictWriter(): \n",
    "\n",
    "import csv \n",
    "fields = ['roll_no', 'department', 'name', 'total_marks'] \n",
    "my_dict = [{'roll_no':1, 'department':'computer science' ,'name':'Jerry', 'total_marks':95},        \n",
    "           {'roll_no': 2, 'department': 'computer science', 'name': 'Tom', 'total_marks': 75},                   \n",
    "           {'roll_no': 3, 'department': 'computer science', 'name': 'Scooby', 'total_marks': 85},                   \n",
    "           {'roll_no': 4, 'department': 'computer science', 'name': 'Johhny', 'total_marks': 70}] \n",
    " \n",
    "filename = 'sample_dict.csv' \n",
    "csvfile = open(filename, 'w') \n",
    "# lineterminator below specifies the spaces to be left between every row while writing data. \n",
    "csv_writer = csv.DictWriter(csvfile, fields, lineterminator='\\n') \n",
    "# writeheader() is used to write fields in csv \n",
    "csv_writer.writeheader() \n",
    "csv_writer.writerows(my_dict) \n",
    "csvfile.close() \n",
    " "
   ]
  },
  {
   "cell_type": "code",
   "execution_count": 23,
   "metadata": {},
   "outputs": [],
   "source": [
    "# Dict_Reader() \n",
    "\n",
    "fields = ['roll_no', 'department', 'name', 'total_marks']\n",
    "csv_file = open('sample_dict.csv')\n",
    "csv_reader = csv.DictReader(csv_file, fieldnames=fields) \n",
    "for row in csv_reader:\n",
    "    pass\n",
    "#     print(row['roll_no'], row['department'], row['name'], row['total_marks'])"
   ]
  },
  {
   "cell_type": "markdown",
   "metadata": {},
   "source": [
    " Working with JSON files \n",
    "\n",
    "Python has an inbuilt module named as ‘json’ to work with JSON files. JSON files consist of simple key : value pairs. \n",
    "\n",
    "Converting from Json to Python\n",
    "json module has two methods to load data in Python either in dictionary data structure or list data structure. \n",
    "    load() : this method takes a file object as a parameter. \n",
    "    loads() : this method takes a JSON string as a parameter. \n",
    "   "
   ]
  },
  {
   "cell_type": "code",
   "execution_count": 21,
   "metadata": {},
   "outputs": [],
   "source": [
    "import json \n",
    "# please note that movies_json is a JSON string \n",
    "movies_json = '[{\"title\": \"Despicable Me\", \"year\": 2010, \"watched\": true}, {\"title\": \"The Conjuring\", \"year\": 2013, \"watched\": false}]' \n",
    "json_to_python =  json.loads(movies_json) \n",
    "# print(type(json_to_python))\n",
    "# print(json_to_python)"
   ]
  },
  {
   "cell_type": "code",
   "execution_count": 20,
   "metadata": {},
   "outputs": [],
   "source": [
    "json_data = open('PycharmProjects\\Portfolio_FIL\\config.json')\n",
    "json_to_python = json.load(json_data)\n",
    "# print(type(json_to_python))\n",
    "# print(json_to_python)\n",
    "# print(json_to_python['configuration']['source'])\n",
    "# print(json_to_python['configuration']['database'])"
   ]
  },
  {
   "cell_type": "markdown",
   "metadata": {},
   "source": [
    "Converting from Python to JSON Similarly we have two methods to convert python to Json, namely, dump() and dumps(). \n",
    " \n",
    "dumps() : its used to convert Python data structure to JSON formatted structure. \n",
    "dump() : It is used to write json to a json file. "
   ]
  },
  {
   "cell_type": "code",
   "execution_count": 31,
   "metadata": {},
   "outputs": [],
   "source": [
    "word_dict = {\"words\":\n",
    "             {\n",
    "                 \"abandoned industrial site\": [\"Site that cannot be used for any purpose, being contaminated by pollutants.\"], \n",
    "                 \"abandoned vehicle\": [\"A vehicle that has been discarded in the environment, urban or otherwise, often found wrecked, destroyed, damaged or with a major component part stolen or missing.\"], \n",
    "                 \"abiotic factor\": [\"Physical, chemical and other non-living environmental factor.\"], \n",
    "                 \"access road\": [\"Any street or narrow stretch of paved surface that leads to a specific destination, such as a main highway.\"]\n",
    "              }\n",
    "            }\n",
    "\n",
    "# j = json.dumps(word_dict, indent=4)\n",
    "# print(type(j))\n",
    "# print(j)\n",
    "\n",
    "# f = open('words_dict.json', 'w')\n",
    "# json.dump(j, f)\n",
    "# f.close()\n",
    "\n",
    "# json_data = open('words_dict.json')\n",
    "# json_to_python = json.load(json_data)\n",
    "# print(json_to_python)"
   ]
  },
  {
   "cell_type": "code",
   "execution_count": null,
   "metadata": {},
   "outputs": [],
   "source": []
  }
 ],
 "metadata": {
  "kernelspec": {
   "display_name": "Python 3",
   "language": "python",
   "name": "python3"
  },
  "language_info": {
   "codemirror_mode": {
    "name": "ipython",
    "version": 3
   },
   "file_extension": ".py",
   "mimetype": "text/x-python",
   "name": "python",
   "nbconvert_exporter": "python",
   "pygments_lexer": "ipython3",
   "version": "3.6.5"
  }
 },
 "nbformat": 4,
 "nbformat_minor": 2
}
