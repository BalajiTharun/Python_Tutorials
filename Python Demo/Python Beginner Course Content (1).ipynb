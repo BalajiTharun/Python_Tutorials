{
 "cells": [
  {
   "cell_type": "markdown",
   "metadata": {},
   "source": [
    "Python and Data Analysis Beginner Level Course"
   ]
  },
  {
   "cell_type": "raw",
   "metadata": {},
   "source": [
    "Python Basics (4 Hours)\n",
    "    - Introdunction to Python\n",
    "    - Variables and Data Types\n",
    "    - Python Data Structure\n",
    "        - List with examples and programs\n",
    "        - Tuple with examples and programs\n",
    "        - Difference in List and Tuple\n",
    "        - Dictionary with examples and programs\n",
    "\n",
    "Basic Python Application (4 hrs)\n",
    "    - Basic Interactive Dictionary Application in Python\n",
    "    - Python commonly used Builtin Functions\n",
    "\n",
    "Python with Oracle Database and Numpy Basics (4 hrs)\n",
    "    - Python with Oracle Database (Since oracle is widely used in Fidelity) \n",
    "    - Numpy Introduction and Comparison with Python List\n",
    "    - Numpy Array Creation Methods\n",
    "    - Numpy Data Types and Type Conversion Method\n",
    "    - Numpy Array Operations\n",
    "    - Numpy Data Computation Use Case\n",
    "    \n",
    "Pandas (3 Hrs)\n",
    "    - Introduction to Pandas and Comparison with Numpy\n",
    "    - Pandas Data Frame\n",
    "    - Pandas Data Types\n",
    "    - Pandas Data Frame Operations\n",
    "    - Pandas Data Computation Use Case\n",
    "\n",
    "Overall Discussion and Doubts (1 hr)\n",
    "\n",
    "\n",
    "    \n",
    "        "
   ]
  }
 ],
 "metadata": {
  "kernelspec": {
   "display_name": "Python 2",
   "language": "python",
   "name": "python2"
  },
  "language_info": {
   "codemirror_mode": {
    "name": "ipython",
    "version": 2
   },
   "file_extension": ".py",
   "mimetype": "text/x-python",
   "name": "python",
   "nbconvert_exporter": "python",
   "pygments_lexer": "ipython2",
   "version": "2.7.14"
  }
 },
 "nbformat": 4,
 "nbformat_minor": 2
}
