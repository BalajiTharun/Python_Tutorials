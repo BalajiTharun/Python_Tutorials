{
 "cells": [
  {
   "cell_type": "markdown",
   "metadata": {},
   "source": [
    "Python Common Built-In Functions"
   ]
  },
  {
   "cell_type": "markdown",
   "metadata": {},
   "source": [
    "### LAMBDA Function"
   ]
  },
  {
   "cell_type": "markdown",
   "metadata": {},
   "source": [
    "The lambda operator or lambda function is a way to create small anonymous functions, i.e. functions without a name. \n",
    "These functions are throw-away functions, i.e. they are just needed where they have been created. \n",
    "Lambda functions are mainly used in combination with the functions filter(), map() and reduce()."
   ]
  },
  {
   "cell_type": "markdown",
   "metadata": {},
   "source": [
    "SYNTAX\n",
    "\n",
    "`lambda  args list  :  expression` "
   ]
  },
  {
   "cell_type": "code",
   "execution_count": 6,
   "metadata": {},
   "outputs": [
    {
     "name": "stdout",
     "output_type": "stream",
     "text": [
      "9\n"
     ]
    }
   ],
   "source": [
    "# Below we define function 'add(x, y)' using lambda function\n",
    "\n",
    "# conventional way of defining a function\n",
    "def add(x, y):\n",
    "    return x+y\n",
    "\n",
    "# lambda function\n",
    "add = lambda x, y: x + y\n",
    "\n",
    "# this will print 9 as output\n",
    "print(add(4,5)) "
   ]
  },
  {
   "cell_type": "code",
   "execution_count": 10,
   "metadata": {},
   "outputs": [
    {
     "name": "stdout",
     "output_type": "stream",
     "text": [
      "normal function 1.7320508075688772\n",
      "labda func 1.7320508075688772\n"
     ]
    }
   ],
   "source": [
    "import math # this module provides access to the mathematical functions\n",
    "\n",
    "\n",
    "# lets define a function to calculate square root of a number\n",
    "def square_root(x): \n",
    "    return math.sqrt(x)\n",
    "print('normal function', square_root(3))\n",
    "\n",
    "# lambda function to calculate square root of a number\n",
    "square_root_lmb = lambda x : x**0.5\n",
    "print('labda func', square_root_lmb(3))\n",
    "\n",
    "# USE LAMBDA when a function is required to call only from one place in your application"
   ]
  },
  {
   "cell_type": "markdown",
   "metadata": {},
   "source": [
    "### MAP Function\n",
    "\n",
    "map() function returns a list of the results after applying the given function to each item of a given iterable (list, tuple etc.)\n",
    "\n",
    "SYNTAX of map functiong:\n",
    "`map(function, sequence)`,\n",
    "map function takes 2 arguments - function and a sequence\n",
    "\n",
    "map returns an iterator in Python 3, earlier in Python 2 map returns a list, so in Python 3 we needs to explicitly converts the iterator into a sequence (list, tuple... etc) using type casting."
   ]
  },
  {
   "cell_type": "code",
   "execution_count": 19,
   "metadata": {},
   "outputs": [
    {
     "name": "stdout",
     "output_type": "stream",
     "text": [
      "For Loop\n",
      "97.7\n",
      "98.60000000000001\n",
      "99.5\n",
      "100.4\n",
      "102.2\n",
      "Map Object <map object at 0x0000026D8B802CC0>\n",
      "List of Fahrenheit Tempratures :  [97.7, 98.60000000000001, 99.5, 100.4, 102.2]\n"
     ]
    }
   ],
   "source": [
    "# Below I have defined a normal function to calculate temperature in fahrenheit\n",
    "def fahrenheit(T):\n",
    "    return ((float(9)/5)*T + 32)\n",
    "\n",
    "# let's say that we need to convert below tempratures values into fahrenheit\n",
    "temperatures = (36.5, 37, 37.5, 38, 39)\n",
    "\n",
    "# one wayof doing it is to use for loop and call fahrenheit() function in each iteration\n",
    "print('For Loop')\n",
    "for temp in temperatures:\n",
    "    print(fahrenheit(temp))\n",
    "\n",
    "# now instead of loop we can make use of MAP function, \n",
    "# use fahrenheit function as 1st argument and tempratures tuple as a second argument:\n",
    "fahrenheit_tempratures = map(fahrenheit, temperatures)\n",
    "\n",
    "# let's print fahrenheit_tempratures, you can see below that an object value is printed\n",
    "print('Map Object' , fahrenheit_tempratures)\n",
    "\n",
    "# to get a sequence out of it, we need to type cast fahrenheit_tempratures into list or tuple:\n",
    "print('List of Fahrenheit Tempratures : ', list(fahrenheit_tempratures))\n"
   ]
  },
  {
   "cell_type": "markdown",
   "metadata": {},
   "source": [
    "## Lambda and MAP\n",
    "\n",
    "Let's convert the above tempratures sequence into Celcius using labda function.\n",
    "NOTE: we can pass lambda functions as first parameter to MAP function, this is the most common way of using map"
   ]
  },
  {
   "cell_type": "code",
   "execution_count": 21,
   "metadata": {},
   "outputs": [
    {
     "name": "stdout",
     "output_type": "stream",
     "text": [
      "[2.5, 2.7777777777777777, 3.055555555555556, 3.3333333333333335, 3.8888888888888893]\n"
     ]
    }
   ],
   "source": [
    "# Passing lambda functions to convert values of tempratures into Celcius, \n",
    "# each value from temprature is passed to argument T of lambda function and is evaluated by expression `(float(5)/9)*(T-32)`\n",
    "# finally we need to convert MAP function into a sequence such as list()\n",
    "\n",
    "celcius = list(map( lambda T :(float(5)/9)*(T-32), temperatures))\n",
    "print(celcius)"
   ]
  },
  {
   "cell_type": "markdown",
   "metadata": {},
   "source": [
    "### ZIP Function\n",
    "\n",
    "zip function is used to bind two sequence/iterables such as list, tuple etc into a single entity.\n",
    "\n",
    "SYNTAX: zip(iterable1, iterable2)\n",
    "\n",
    "Returns a single iterator object, having mapped values from all the containers."
   ]
  },
  {
   "cell_type": "code",
   "execution_count": 23,
   "metadata": {},
   "outputs": [
    {
     "name": "stdout",
     "output_type": "stream",
     "text": [
      "<zip object at 0x0000026D8B806E08>\n",
      "{1: 9, 2: 4, 3: 7, 4: 89, 5: 5}\n"
     ]
    }
   ],
   "source": [
    "z1 = [1,2,3,4,5, 9, 0]\n",
    "z2 = [9,4,7,89,5]\n",
    "zip_object = zip(z1 ,z2)\n",
    "\n",
    "# zip function returns an object\n",
    "print(zip_object)\n",
    "\n",
    "# convert a zip object into another entity using type casting as shown below:\n",
    "dict_zip = dict(zip_object)\n",
    "print(dict_zip)"
   ]
  },
  {
   "cell_type": "markdown",
   "metadata": {},
   "source": [
    "NOTE: Zip function will traverse till the lenght of shorter iterable, like list z2 in above example"
   ]
  },
  {
   "cell_type": "markdown",
   "metadata": {},
   "source": [
    "NOTE:\n",
    "map works in a similar way.\n",
    "\n",
    "map on two lists, for lists of unequal length map will stop with last element of short list"
   ]
  },
  {
   "cell_type": "code",
   "execution_count": 24,
   "metadata": {},
   "outputs": [
    {
     "name": "stdout",
     "output_type": "stream",
     "text": [
      "[18, 25, 12, 0]\n"
     ]
    }
   ],
   "source": [
    "a = [1,2,3,4]\n",
    "b = [17, 23, 9, -4, 4]\n",
    "c = list(map(lambda x, y: x+y , a,b))\n",
    "print(c)"
   ]
  },
  {
   "cell_type": "code",
   "execution_count": 25,
   "metadata": {},
   "outputs": [
    {
     "name": "stdout",
     "output_type": "stream",
     "text": [
      "[0, 2, 2, 2, 4, 6, 8, 14, 22, 34, 56]\n"
     ]
    }
   ],
   "source": [
    "def even_no(x):\n",
    "    if x%2==0:\n",
    "        return x\n",
    "    else:\n",
    "        return x+1\n",
    "\n",
    "# find and cal even nos\n",
    "fib_no = [0,1,1,2,3,5,8,13,21,34,55]\n",
    "even_no = list(map(lambda x: x if x%2 == 0 else ( x+1 if  x%2 != 0 else x), fib_no))\n",
    "print(even_no)"
   ]
  },
  {
   "cell_type": "markdown",
   "metadata": {},
   "source": [
    "### FILTER Function\n",
    "\n",
    "As the name suggests, filter function offers an elegant way to filter out all the elements of a sequence \"sequence\", for which the function returns True.\n",
    "\n",
    "syntax : filter(func, sequence), it returns an iterator"
   ]
  },
  {
   "cell_type": "code",
   "execution_count": 26,
   "metadata": {},
   "outputs": [
    {
     "name": "stdout",
     "output_type": "stream",
     "text": [
      "[1, 1, 3, 5, 13, 21, 55]\n"
     ]
    }
   ],
   "source": [
    "# since filter function returns an iterator, we need to explicitly type cast it into sequence\n",
    "fib_no = [0,1,1,2,3,5,8,13,21,34,55]\n",
    "odd_nos = list( filter(lambda x: x%2 , fib_no) )\n",
    "print(odd_nos)"
   ]
  },
  {
   "cell_type": "markdown",
   "metadata": {},
   "source": [
    "### Exercize"
   ]
  },
  {
   "cell_type": "code",
   "execution_count": 27,
   "metadata": {},
   "outputs": [],
   "source": [
    "# Write a Python program, which returns a list with tuples. Each tuple consists of a the order number and the product of the \n",
    "# items and the quantity. The product should be increased by 10, if the value of the quantity is less than 100.\n",
    "\n",
    "orders = [ [\"34587\", \"Learning Python, Mark Lutz\", 4, 40.95], \n",
    "           [\"98762\", \"Programming Python, Mark Lutz\", 5, 56.80], \n",
    "           [\"77226\", \"Head First Python, Paul Barry\", 3,32.95],\n",
    "           [\"88112\", \"Einführung in Python3, Bernd Klein\", 3, 24.99]]\n"
   ]
  },
  {
   "cell_type": "code",
   "execution_count": 28,
   "metadata": {},
   "outputs": [
    {
     "name": "stdout",
     "output_type": "stream",
     "text": [
      "[['34587', 163.8], ['98762', 284.0], ['77226', 108.85000000000001], ['88112', 84.97]]\n"
     ]
    }
   ],
   "source": [
    "# solution:\n",
    "\n",
    "orders = [ [\"34587\", \"Learning Python, Mark Lutz\", 4, 40.95], \n",
    "           [\"98762\", \"Programming Python, Mark Lutz\", 5, 56.80], \n",
    "           [\"77226\", \"Head First Python, Paul Barry\", 3,32.95],\n",
    "           [\"88112\", \"Einführung in Python3, Bernd Klein\", \t3, 24.99]]\n",
    "result = list(map(lambda order: [ order[0], order[2]*order[3] + 10 if order[2]*order[3] < 100 else order[2]*order[3] ] , orders))\n",
    "print(result)"
   ]
  },
  {
   "cell_type": "markdown",
   "metadata": {},
   "source": [
    "### Any & All in Python\n",
    "\n",
    "Any returns True, if any of the items is True in sequence. It returns False if empty or all are false. \n",
    "\n",
    "Any can be thought of as a sequence of OR operations on the provided iterables."
   ]
  },
  {
   "cell_type": "code",
   "execution_count": 29,
   "metadata": {},
   "outputs": [
    {
     "name": "stdout",
     "output_type": "stream",
     "text": [
      "True\n"
     ]
    },
    {
     "data": {
      "text/plain": [
       "False"
      ]
     },
     "execution_count": 29,
     "metadata": {},
     "output_type": "execute_result"
    }
   ],
   "source": [
    "# Syntax : any(list of iterables)\n",
    "\n",
    "# prints True since there is atleast one True\n",
    "print (any([True, False, False, False]))\n",
    "\n",
    "# prints False since there is no True\n",
    "any([False, False])"
   ]
  },
  {
   "cell_type": "code",
   "execution_count": 30,
   "metadata": {},
   "outputs": [
    {
     "name": "stdout",
     "output_type": "stream",
     "text": [
      "True\n",
      "False\n",
      "False\n"
     ]
    }
   ],
   "source": [
    "# All Returns true if all of the items are True (or if the iterable is empty). \n",
    "# All can be thought of as a sequence of AND operations on the provided iterables.\n",
    "\n",
    "print (all([True, True, True, True]))\n",
    " \n",
    "print (all([False, True, True, False]))\n",
    "\n",
    "print (all([False, False, False]))"
   ]
  },
  {
   "cell_type": "markdown",
   "metadata": {},
   "source": [
    "### list comprehensions\n",
    "\n",
    "Comprehension is a way to create a sequence from another sequence. "
   ]
  },
  {
   "cell_type": "code",
   "execution_count": 35,
   "metadata": {},
   "outputs": [
    {
     "name": "stdout",
     "output_type": "stream",
     "text": [
      "[1.0, 4.0, 9.0, 16.0, 25.0]\n",
      "[1, 4, 9, 16]\n"
     ]
    }
   ],
   "source": [
    "# For example, we can create a list from another list or tuple.\n",
    "import math\n",
    "\n",
    "lst = [1, 2, 3, 4, 5]\n",
    "\n",
    "square = []\n",
    "for x in lst:\n",
    "    square.append(math.pow(x,2))\n",
    "print(square)\n",
    "\n",
    "l1 = [x**2 for x in range(1,5)]\n",
    "\n",
    "print(l1)"
   ]
  },
  {
   "cell_type": "code",
   "execution_count": 21,
   "metadata": {},
   "outputs": [],
   "source": [
    "l2 = {x: x**2 for x in range(0,5)}\n",
    "\n",
    "# print(l2)\n",
    "# print(type(l2))"
   ]
  },
  {
   "cell_type": "code",
   "execution_count": 20,
   "metadata": {},
   "outputs": [],
   "source": [
    "l2 = {x**2 for x in range(0,5)}\n",
    "\n",
    "# print(l2)\n",
    "# print(type(l2))"
   ]
  },
  {
   "cell_type": "code",
   "execution_count": 29,
   "metadata": {},
   "outputs": [],
   "source": [
    "# Exercize write a program to find if a no is prime or not in range 1 - 101\n",
    "import math\n",
    "for num in range(2,101):\n",
    "    prime = True\n",
    "    for i in range(2,int(math.sqrt(num))+1):\n",
    "        if (num%i==0):\n",
    "            prime = False\n",
    "    if prime:\n",
    "        print(num)\n"
   ]
  },
  {
   "cell_type": "code",
   "execution_count": null,
   "metadata": {},
   "outputs": [],
   "source": [
    "# for num in range(2,101):\n",
    "#     if all(num%i!=0 for i in range(2,int(math.sqrt(num))+1)):\n",
    "#        print(num)"
   ]
  }
 ],
 "metadata": {
  "kernelspec": {
   "display_name": "Python 3",
   "language": "python",
   "name": "python3"
  },
  "language_info": {
   "codemirror_mode": {
    "name": "ipython",
    "version": 3
   },
   "file_extension": ".py",
   "mimetype": "text/x-python",
   "name": "python",
   "nbconvert_exporter": "python",
   "pygments_lexer": "ipython3",
   "version": "3.6.5"
  }
 },
 "nbformat": 4,
 "nbformat_minor": 2
}
