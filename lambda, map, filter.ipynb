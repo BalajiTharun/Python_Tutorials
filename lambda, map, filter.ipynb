{
 "cells": [
  {
   "cell_type": "markdown",
   "metadata": {},
   "source": [
    "FILE I/O\n",
    "Database\n",
    "Python API\n",
    "EMAIL SENDING\n",
    "NUMPY \n",
    "PANDAS"
   ]
  },
  {
   "cell_type": "markdown",
   "metadata": {},
   "source": [
    "Python Common Built-In Functions"
   ]
  },
  {
   "cell_type": "code",
   "execution_count": 8,
   "metadata": {},
   "outputs": [
    {
     "name": "stdout",
     "output_type": "stream",
     "text": [
      "-1\n",
      "<function <lambda> at 0x0000024CD4FFB840>\n"
     ]
    }
   ],
   "source": [
    "# The lambda operator or lambda function is a way to create small anonymous functions, i.e. functions without a name. \n",
    "# These functions are throw-away functions, i.e. they are just needed where they have been created. \n",
    "# Lambda functions are mainly used in combination with the functions filter(), map() and reduce().\n",
    "\n",
    "# syntax --  lambda args list : expression\n",
    "def f(a, L=[]):\n",
    "    L.append(a)\n",
    "    return L\n",
    "\n",
    "sum = lambda x,y: x-y\n",
    "print(sum(4, 5))\n",
    "print(sum)"
   ]
  },
  {
   "cell_type": "code",
   "execution_count": 9,
   "metadata": {},
   "outputs": [
    {
     "name": "stdout",
     "output_type": "stream",
     "text": [
      "normal function 1.7320508075688772\n",
      "labda func 1.7320508075688772\n"
     ]
    }
   ],
   "source": [
    "import math\n",
    "def square_root(x): \n",
    "    return math.sqrt(x)\n",
    "print('normal function', square_root(3))\n",
    "\n",
    "square_root_lmb = lambda x : x**0.5\n",
    "print('labda func', square_root_lmb(3))\n",
    "\n",
    "# USE LAMBDA when a function is required to call only from one place in your application"
   ]
  },
  {
   "cell_type": "code",
   "execution_count": 21,
   "metadata": {},
   "outputs": [
    {
     "name": "stdout",
     "output_type": "stream",
     "text": [
      "[97.7, 98.60000000000001, 99.5, 100.4, 102.2]\n"
     ]
    }
   ],
   "source": [
    "# map function\n",
    "# map function takes 2 arguments - function and a sequence\n",
    "# syntax map(func, seq)\n",
    "# map returns an iterator in Python 3, earlier in Python 2 map returns a list\n",
    "\n",
    "def fahrenheit(T):\n",
    "    return ((float(9)/5)*T + 32)\n",
    "\n",
    "temperatures = (36.5, 37, 37.5, 38, 39)\n",
    "F = map(lambda x:((float(9)/5)*x+ 32), temperatures)\n",
    "print(list(F))\n",
    "# for temp in F:\n",
    "#     print(temp)\n",
    "\n",
    "# Exercize\n",
    "# How to make use of lambda function to calculate temperature in Celsius\n",
    "# c = (float(5)/9)*(T-32)"
   ]
  },
  {
   "cell_type": "code",
   "execution_count": null,
   "metadata": {},
   "outputs": [],
   "source": [
    "# solution\n",
    "# C = list(map( lambda T :(float(5)/9)*(T-32), temperatures))\n",
    "# print(C)"
   ]
  },
  {
   "cell_type": "code",
   "execution_count": 19,
   "metadata": {},
   "outputs": [
    {
     "data": {
      "text/plain": [
       "{9: 1, 4: 2, 7: 3, 89: 4, 5: 5}"
      ]
     },
     "execution_count": 19,
     "metadata": {},
     "output_type": "execute_result"
    }
   ],
   "source": [
    "z1 = [1,2,3,4,5, 9, 0]\n",
    "z2 = [9,4,7,89,5]\n",
    "dict(zip(z2,z1))\n"
   ]
  },
  {
   "cell_type": "code",
   "execution_count": 27,
   "metadata": {},
   "outputs": [
    {
     "name": "stdout",
     "output_type": "stream",
     "text": [
      "[18, 25, 12, 0]\n",
      "[0, 2, 2, 2, 4, 6, 8, 14, 22, 34, 56]\n"
     ]
    }
   ],
   "source": [
    "# map on two lists, for lists of unequal length map will stop with last element of short list\n",
    "a = [1,2,3,4]\n",
    "b = [17, 23, 9, -4, 4]\n",
    "c = list(map(lambda x, y: x+y , a,b))\n",
    "print(c)\n",
    "\n",
    "# find and cal even nos\n",
    "fib_no = [0,1,1,2,3,5,8,13,21,34,55]\n",
    "even_no = list(map(lambda x: x if x%2 == 0 else x+1, fib_no))\n",
    "print(even_no)"
   ]
  },
  {
   "cell_type": "code",
   "execution_count": 36,
   "metadata": {},
   "outputs": [
    {
     "name": "stdout",
     "output_type": "stream",
     "text": [
      "[1, 1, 3, 5, 13, 21, 55]\n"
     ]
    }
   ],
   "source": [
    "# filter function\n",
    "# As the name suggests, filter function offers an elegant way to filter out all the elements of a sequence \"sequence\",\n",
    "# for which the function returns True.\n",
    "# syntax : filter(func, sequence), it returns an iterator\n",
    "\n",
    "fib_no = [0,1,1,2,3,5,8,13,21,34,55]\n",
    "odd_nos = list(filter(lambda x: x%2, fib_no))\n",
    "print(odd_nos)\n"
   ]
  },
  {
   "cell_type": "code",
   "execution_count": 26,
   "metadata": {},
   "outputs": [
    {
     "name": "stdout",
     "output_type": "stream",
     "text": [
      "[('34587', 173.8), ('98762', 294.0), ('77226', 108.85000000000001), ('88112', 84.97)]\n"
     ]
    }
   ],
   "source": [
    "# Exercize\n",
    "# Write a Python program, which returns a list with 2-tuples. Each tuple consists of a the order number and the product of the \n",
    "# price per items and the quantity. The product should be increased by 10, if the value of the order is less than 100,00.\n",
    "orders = [ [\"34587\", \"Learning Python, Mark Lutz\", 4, 40.95], \n",
    "           [\"98762\", \"Programming Python, Mark Lutz\", 5, 56.80], \n",
    "           [\"77226\", \"Head First Python, Paul Barry\", 3,32.95],\n",
    "           [\"88112\", \"Einführung in Python3, Bernd Klein\", \t3, 24.99]]\n"
   ]
  },
  {
   "cell_type": "code",
   "execution_count": 40,
   "metadata": {},
   "outputs": [
    {
     "name": "stdout",
     "output_type": "stream",
     "text": [
      "[('34587', 173.8), ('98762', 294.0), ('77226', 108.85000000000001), ('88112', 84.97)]\n"
     ]
    }
   ],
   "source": [
    "# solution:\n",
    "\n",
    "orders = [ [\"34587\", \"Learning Python, Mark Lutz\", 4, 40.95], \n",
    "           [\"98762\", \"Programming Python, Mark Lutz\", 5, 56.80], \n",
    "           [\"77226\", \"Head First Python, Paul Barry\", 3,32.95],\n",
    "           [\"88112\", \"Einführung in Python3, Bernd Klein\", \t3, 24.99]]\n",
    "result = list(map(lambda order: (order[0], order[2]*order[3] + 10 if order[2]*order[3] < 100000 else order[2]*order[3] ) , orders))\n",
    "print(result)"
   ]
  },
  {
   "cell_type": "code",
   "execution_count": 41,
   "metadata": {},
   "outputs": [
    {
     "name": "stdout",
     "output_type": "stream",
     "text": [
      "False\n",
      "True\n",
      "True\n"
     ]
    }
   ],
   "source": [
    "# Any & All in Python\n",
    "\n",
    "# Any returns True, if any of the items is True in sequence. It returns False if empty or all are false. \n",
    "# Any can be thought of as a sequence of OR operations on the provided iterables.\n",
    "# Syntax : any(list of iterables)\n",
    "\n",
    "print (any([False, False, False, False]))\n",
    " \n",
    "print (any([False, True, False, False]))\n",
    " \n",
    "print (any([True, False, False, False]))"
   ]
  },
  {
   "cell_type": "code",
   "execution_count": 43,
   "metadata": {},
   "outputs": [
    {
     "name": "stdout",
     "output_type": "stream",
     "text": [
      "True\n",
      "False\n",
      "False\n"
     ]
    }
   ],
   "source": [
    "# All Returns true if all of the items are True (or if the iterable is empty). \n",
    "# All can be thought of as a sequence of AND operations on the provided iterables.\n",
    "\n",
    "print (all([True, True, True, True]))\n",
    " \n",
    "print (all([False, True, True, False]))\n",
    "\n",
    "print (all([False, False, False]))"
   ]
  },
  {
   "cell_type": "code",
   "execution_count": 17,
   "metadata": {},
   "outputs": [],
   "source": [
    "# list comprehensions\n",
    "# Comprehension is a way to create a sequence from another sequence. \n",
    "# For example, we can create a list from another list or tuple.\n",
    "\n",
    "import math\n",
    "lst = [2,-1,3,7,-3,-6]\n",
    "# square = [math.pow(x,2) for x in lst if x > 0]\n",
    "\n",
    "l1 = [x**2 for x in range(0,5)]\n",
    "\n",
    "# print(l1)\n",
    "# type(l1)\n",
    "\n"
   ]
  },
  {
   "cell_type": "code",
   "execution_count": 21,
   "metadata": {},
   "outputs": [],
   "source": [
    "l2 = {x: x**2 for x in range(0,5)}\n",
    "\n",
    "# print(l2)\n",
    "# print(type(l2))"
   ]
  },
  {
   "cell_type": "code",
   "execution_count": 20,
   "metadata": {},
   "outputs": [],
   "source": [
    "l2 = {x**2 for x in range(0,5)}\n",
    "\n",
    "# print(l2)\n",
    "# print(type(l2))"
   ]
  },
  {
   "cell_type": "code",
   "execution_count": 29,
   "metadata": {},
   "outputs": [],
   "source": [
    "# Exercize write a program to find if a no is prime or not in range 1 - 101\n",
    "import math\n",
    "for num in range(2,101):\n",
    "    prime = True\n",
    "    for i in range(2,int(math.sqrt(num))+1):\n",
    "        if (num%i==0):\n",
    "            prime = False\n",
    "    if prime:\n",
    "        print(num)\n"
   ]
  },
  {
   "cell_type": "code",
   "execution_count": null,
   "metadata": {},
   "outputs": [],
   "source": [
    "# for num in range(2,101):\n",
    "#     if all(num%i!=0 for i in range(2,int(math.sqrt(num))+1)):\n",
    "#        print(num)"
   ]
  }
 ],
 "metadata": {
  "kernelspec": {
   "display_name": "Python 3",
   "language": "python",
   "name": "python3"
  },
  "language_info": {
   "codemirror_mode": {
    "name": "ipython",
    "version": 3
   },
   "file_extension": ".py",
   "mimetype": "text/x-python",
   "name": "python",
   "nbconvert_exporter": "python",
   "pygments_lexer": "ipython3",
   "version": "3.6.5"
  }
 },
 "nbformat": 4,
 "nbformat_minor": 2
}
