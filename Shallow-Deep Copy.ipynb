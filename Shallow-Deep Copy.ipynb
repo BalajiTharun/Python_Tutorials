{
 "cells": [
  {
   "cell_type": "markdown",
   "metadata": {},
   "source": [
    "### Shallow and Deep Copy"
   ]
  },
  {
   "cell_type": "markdown",
   "metadata": {},
   "source": [
    "The difference between shallow and deep copying is only relevant for compound objects (objects that contain other objects, like lists or class instances)\n",
    "\n",
    "copy.copy(x)\n",
    "Return a shallow copy of x.\n",
    "\n",
    "copy.deepcopy(x)\n",
    "Return a deep copy of x.\n"
   ]
  },
  {
   "cell_type": "code",
   "execution_count": 12,
   "metadata": {},
   "outputs": [
    {
     "name": "stdout",
     "output_type": "stream",
     "text": [
      "True\n",
      "True\n"
     ]
    }
   ],
   "source": [
    "import copy\n",
    "\n",
    "a = 1\n",
    "# copy() function does Shallow copy operation on arbitrary Python objects.\n",
    "b = copy.copy(a)\n",
    "print(a==b)\n",
    "print(a is b)"
   ]
  },
  {
   "cell_type": "markdown",
   "metadata": {},
   "source": [
    "`id()` function accepts a single parameter and is used to return the identity of an object. This identity has to be unique and constant for this object during the lifetime. Two objects with non-overlapping lifetimes may have the same id() value. If we relate this to C, then they are actually the memory address, here in Python it is the unique id. This function is generally used internally in Python."
   ]
  },
  {
   "cell_type": "code",
   "execution_count": 13,
   "metadata": {
    "scrolled": true
   },
   "outputs": [
    {
     "name": "stdout",
     "output_type": "stream",
     "text": [
      "1468754960\n",
      "1468754960\n"
     ]
    }
   ],
   "source": [
    "print(id(a))\n",
    "print(id(b))"
   ]
  },
  {
   "cell_type": "markdown",
   "metadata": {},
   "source": [
    "You can see above both the ID's are same, it means a and b have same memory address."
   ]
  },
  {
   "cell_type": "code",
   "execution_count": 15,
   "metadata": {},
   "outputs": [
    {
     "name": "stdout",
     "output_type": "stream",
     "text": [
      "True\n"
     ]
    }
   ],
   "source": [
    "# equality \n",
    "# below statement will print True, since both the list are of identical lengths and contains same value\n",
    "print([1,2] == [1,2])"
   ]
  },
  {
   "cell_type": "markdown",
   "metadata": {},
   "source": [
    "But are these object's have same memory address ?\n",
    "\n",
    "Let's find out.."
   ]
  },
  {
   "cell_type": "code",
   "execution_count": 16,
   "metadata": {},
   "outputs": [
    {
     "data": {
      "text/plain": [
       "False"
      ]
     },
     "execution_count": 16,
     "metadata": {},
     "output_type": "execute_result"
    }
   ],
   "source": [
    "l1 = [1,2]\n",
    "l2 = [1,2]\n",
    "l1 is l2"
   ]
  },
  {
   "cell_type": "markdown",
   "metadata": {},
   "source": [
    "is operatorschecks if two objects are equal or not\n",
    "\n",
    "list l1 and l2 above have same values but have different memory address, we can check the same using id() function as demonstrated below:"
   ]
  },
  {
   "cell_type": "code",
   "execution_count": 18,
   "metadata": {},
   "outputs": [
    {
     "name": "stdout",
     "output_type": "stream",
     "text": [
      "1265613501512\n",
      "1265614925192\n"
     ]
    }
   ],
   "source": [
    "print(id(l1))\n",
    "print(id(l2))\n",
    "# both the id's are different, since l1 and l2 are different objects"
   ]
  },
  {
   "cell_type": "code",
   "execution_count": 19,
   "metadata": {},
   "outputs": [
    {
     "name": "stdout",
     "output_type": "stream",
     "text": [
      "True\n",
      "True\n"
     ]
    }
   ],
   "source": [
    "import copy\n",
    "l1 = [1,2]\n",
    "l2 = copy.copy(a)\n",
    "\n",
    "# Is it true or false?\n",
    "print(a is b)\n",
    "\n",
    "# Is it true or false?\n",
    "print(b == a)"
   ]
  },
  {
   "cell_type": "markdown",
   "metadata": {},
   "source": [
    "Since copy function do shallow copy, so expression `a is b` is True as well"
   ]
  },
  {
   "cell_type": "markdown",
   "metadata": {},
   "source": [
    "Let's learn how copy and deep copy works on nested lists in Python"
   ]
  },
  {
   "cell_type": "code",
   "execution_count": 31,
   "metadata": {},
   "outputs": [
    {
     "name": "stdout",
     "output_type": "stream",
     "text": [
      "Old List: [[1, 2, 3], [4, 5, 6], [7, 8, 9]]\n",
      "ID of Old List: 1265614840392\n",
      "ID of Old nested List: 1265614975240\n",
      "ID of First Object inside Old nested List: 1468754960\n",
      "-----------------------------------------------\n",
      "New List: [[1, 2, 3], [4, 5, 6], [7, 8, 9]]\n",
      "ID of New List: 1265614842696\n",
      "ID of New nested List: 1265614975240\n",
      "ID of First Object inside new nested List: 1468754960\n"
     ]
    }
   ],
   "source": [
    "import copy\n",
    "\n",
    "old_list = [[1, 2, 3], [4, 5, 6], [7, 8, 9]]\n",
    "new_list = copy.copy(old_list)\n",
    "\n",
    "print('Old List:', old_list)\n",
    "print('ID of Old List:', id(old_list))\n",
    "print('ID of Old nested List:', id(old_list[0]))\n",
    "print('ID of First Object inside Old nested List:', id(old_list[0][0]))\n",
    "print('-----------------------------------------------')\n",
    "print('New List:', new_list)\n",
    "print('ID of New List:', id(new_list))\n",
    "print('ID of New nested List:', id(new_list[0]))\n",
    "print('ID of First Object inside new nested List:', id(new_list[0][0]))"
   ]
  },
  {
   "cell_type": "markdown",
   "metadata": {},
   "source": [
    "So, a shallow copy doesn't create a copy of nested objects, instead it just copies the reference of nested objects. This means, a copy process does not recurse or create copies of nested objects itself.\n",
    "But in case of nested list, the outer list have different memory address, this means both the outer lists are different objects."
   ]
  },
  {
   "cell_type": "code",
   "execution_count": 26,
   "metadata": {
    "scrolled": true
   },
   "outputs": [
    {
     "name": "stdout",
     "output_type": "stream",
     "text": [
      "l1 is l2  False\n",
      "l1 == l2  True\n",
      "ID of l1  1265614843400\n",
      "ID of l2  1265614924872\n"
     ]
    }
   ],
   "source": [
    "from copy import deepcopy\n",
    "\n",
    "l1 = [1,2,3]\n",
    "l2 = deepcopy(l1)\n",
    "\n",
    "# Is it true or false?\n",
    "print('l1 is l2 ', l1 is l2)\n",
    "\n",
    "# Is it true or false?\n",
    "print('l1 == l2 ', l1 == l2)\n",
    "\n",
    "print('ID of l1 ', id(l1))\n",
    "print('ID of l2 ', id(l2))"
   ]
  },
  {
   "cell_type": "markdown",
   "metadata": {},
   "source": [
    "A deepcopy will create new object, thus expression `l1 is l2` is False above\n",
    "\n",
    "In case of nested lists, both nested and parent list will have different memory addresses because new objects will be created for nested lists.\n",
    "\n",
    "A deep copy creates a new object and recursively adds the copies of nested objects present in the original elements.\n"
   ]
  },
  {
   "cell_type": "code",
   "execution_count": 35,
   "metadata": {
    "scrolled": true
   },
   "outputs": [
    {
     "name": "stdout",
     "output_type": "stream",
     "text": [
      "Old List: [[1, 2, 3], [4, 5, 6], [7, 8, 9]]\n",
      "ID of Old List: 1265614986952\n",
      "ID of Old nested List: 1265613501384\n",
      "ID of First Object inside old nested List: 1468754960\n",
      "-------------------------------------------\n",
      "New List: [[1, 2, 3], [4, 5, 6], [7, 8, 9]]\n",
      "ID of New List: 1265614840456\n",
      "ID of New nested List: 1265614924360\n",
      "ID of First Object inside new nested List: 1468754960\n"
     ]
    }
   ],
   "source": [
    "import copy\n",
    "\n",
    "old_list = [[1, 2, 3], [4, 5, 6], [7, 8, 9]]\n",
    "new_list = copy.deepcopy(old_list)\n",
    "\n",
    "print('Old List:', old_list)\n",
    "print('ID of Old List:', id(old_list))\n",
    "print('ID of Old nested List:', id(old_list[0]))\n",
    "print('ID of First Object inside old nested List:', id(old_list[0][0]))\n",
    "print('-------------------------------------------')\n",
    "print('New List:', new_list)\n",
    "print('ID of New List:', id(new_list))\n",
    "print('ID of New nested List:', id(new_list[0]))\n",
    "print('ID of First Object inside new nested List:', id(new_list[0][0]))"
   ]
  },
  {
   "cell_type": "markdown",
   "metadata": {},
   "source": [
    "ID's of First object inside nested lists will remail same, since they are basinc fundamental types of Python and concept of deepcopy is restricted to Compound types only in Python"
   ]
  }
 ],
 "metadata": {
  "kernelspec": {
   "display_name": "Python 3",
   "language": "python",
   "name": "python3"
  },
  "language_info": {
   "codemirror_mode": {
    "name": "ipython",
    "version": 3
   },
   "file_extension": ".py",
   "mimetype": "text/x-python",
   "name": "python",
   "nbconvert_exporter": "python",
   "pygments_lexer": "ipython3",
   "version": "3.6.5"
  }
 },
 "nbformat": 4,
 "nbformat_minor": 2
}
