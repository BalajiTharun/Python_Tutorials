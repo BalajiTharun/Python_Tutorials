{
 "cells": [
  {
   "cell_type": "markdown",
   "metadata": {},
   "source": [
    "PYTHON API"
   ]
  },
  {
   "cell_type": "code",
   "execution_count": 10,
   "metadata": {},
   "outputs": [
    {
     "name": "stdout",
     "output_type": "stream",
     "text": [
      "200\n"
     ]
    }
   ],
   "source": [
    "# use requests module to get and post data\n",
    "\n",
    "import requests\n",
    "r = requests.get(\"https://min-api.cryptocompare.com/data/histoday?fsym=BTC&tsym=GBP\")\n",
    "print(r.status_code)"
   ]
  },
  {
   "cell_type": "markdown",
   "metadata": {},
   "source": [
    "Status codes\n",
    "\n",
    "Status codes indicate information about what happened with a request. Here are some codes that are relevant to GET requests:\n",
    "\n",
    "200 -- everything went okay, and the result has been returned (if any)\n",
    "301 -- the server is redirecting you to a different endpoint. This can happen when a company switches domain names, or an endpoint name is changed.\n",
    "401 -- the server thinks you're not authenticated. This happens when you don't send the right credentials to access an API.\n",
    "400 -- the server thinks you made a bad request. This can happen when you don't send along the right data, among other things.\n",
    "403 -- the resource you're trying to access is forbidden -- you don't have the right permissions to see it.\n",
    "404 -- the resource you tried to access wasn't found on the server."
   ]
  },
  {
   "cell_type": "code",
   "execution_count": 15,
   "metadata": {},
   "outputs": [
    {
     "name": "stdout",
     "output_type": "stream",
     "text": [
      "404\n"
     ]
    }
   ],
   "source": [
    "# get request to non existing end point\n",
    "\n",
    "r = requests.get(\"http://api.open-notify.org/iss-pass\")\n",
    "print(r.status_code)"
   ]
  },
  {
   "cell_type": "code",
   "execution_count": 17,
   "metadata": {},
   "outputs": [
    {
     "name": "stdout",
     "output_type": "stream",
     "text": [
      "200\n"
     ]
    }
   ],
   "source": [
    "r = requests.get(\"https://min-api.cryptocompare.com/data/histoday?fsym=BTC&tsym=GBP\")\n",
    "print(r.status_code)\n",
    "# print(type(r.content))\n",
    "# print(r.content)"
   ]
  },
  {
   "cell_type": "markdown",
   "metadata": {},
   "source": [
    "JavaScript Object Notation (JSON)\n",
    "use json package to work with json in python\n",
    "JSON is a way to encode data structures like lists and dictionaries to strings that ensures that they are easily readable \n",
    "by machines. JSON is the primary format in which data is passed back and forth to APIs, and most API servers will send \n",
    "their responses in JSON format\n",
    "\n",
    "The json library has two main methods:\n",
    "\n",
    "dumps -- Takes in a Python object, and converts it to a string.\n",
    "loads -- Takes a JSON string, and converts it to a Python object."
   ]
  },
  {
   "cell_type": "code",
   "execution_count": 23,
   "metadata": {},
   "outputs": [
    {
     "name": "stdout",
     "output_type": "stream",
     "text": [
      "200\n",
      "<class 'dict'>\n"
     ]
    }
   ],
   "source": [
    "response = requests.get(\"https://min-api.cryptocompare.com/data/histoday?fsym=BTC&tsym=GBP\")\n",
    "print(response.status_code)\n",
    "\n",
    "api_data = response.json()\n",
    "print(type(api_data))\n",
    "# print(api_data)\n",
    "# print(api_data['Data'])\n"
   ]
  },
  {
   "cell_type": "markdown",
   "metadata": {},
   "source": [
    "Content type\n",
    "The server doesn't just send a status code and the data when it generates a response. It also sends metadata containing information on how the data was generated and how to decode it. This is stored in the response headers. In Python, we can access this with the headers property of a response object.\n",
    "\n",
    "The headers will be shown as a dictionary. Within the headers, content-type is the most important key for now. It tells us the format of the response, and how to decode it. For the OpenNotify API, the format is JSON, which is why we could decode it with the json package earlier.\n",
    "\n"
   ]
  },
  {
   "cell_type": "code",
   "execution_count": 28,
   "metadata": {},
   "outputs": [
    {
     "name": "stdout",
     "output_type": "stream",
     "text": [
      "{'Server': 'nginx/1.4.6 (Ubuntu)', 'Date': 'Fri, 22 Jun 2018 12:57:43 GMT', 'Content-Type': 'application/json; charset=UTF-8', 'Transfer-Encoding': 'chunked', 'Connection': 'keep-alive', 'Vary': 'Accept-Encoding', 'Access-Control-Allow-Origin': '*', 'Access-Control-Allow-Methods': 'GET', 'Access-Control-Allow-Headers': 'Content-Type', 'Cache-Control': 'public, max-age=29', 'CryptoCompare-Cache-HIT': 'true', 'Content-Encoding': 'gzip'}\n",
      "\n",
      "application/json; charset=UTF-8\n"
     ]
    }
   ],
   "source": [
    "\n",
    "# Headers is a dictionary\n",
    "print(response.headers)\n",
    "print()\n",
    "# Get the content-type from the dictionary.\n",
    "print(response.headers[\"content-type\"])"
   ]
  },
  {
   "cell_type": "markdown",
   "metadata": {},
   "source": [
    "Authentication with API's"
   ]
  },
  {
   "cell_type": "code",
   "execution_count": 36,
   "metadata": {},
   "outputs": [
    {
     "name": "stdout",
     "output_type": "stream",
     "text": [
      "200\n"
     ]
    }
   ],
   "source": [
    "from requests.auth import HTTPBasicAuth\n",
    "\n",
    "response = requests.get('https://github.com/diljeet1994', auth=HTTPBasicAuth('user', 'pass'))\n",
    "print(response.status_code)\n",
    "\n",
    "new_response = requests.get('https://github.com/diljeet1994', auth=('diljeet1994', 'password'))\n",
    "\n",
    "# Digest Authentication, OAuth 1 Authentication, OAuth 2 and OpenID Connect Authentication\n",
    "# http://docs.python-requests.org/en/master/user/authentication/"
   ]
  },
  {
   "cell_type": "code",
   "execution_count": null,
   "metadata": {},
   "outputs": [],
   "source": []
  }
 ],
 "metadata": {
  "kernelspec": {
   "display_name": "Python 3",
   "language": "python",
   "name": "python3"
  },
  "language_info": {
   "codemirror_mode": {
    "name": "ipython",
    "version": 3
   },
   "file_extension": ".py",
   "mimetype": "text/x-python",
   "name": "python",
   "nbconvert_exporter": "python",
   "pygments_lexer": "ipython3",
   "version": "3.6.5"
  }
 },
 "nbformat": 4,
 "nbformat_minor": 2
}
